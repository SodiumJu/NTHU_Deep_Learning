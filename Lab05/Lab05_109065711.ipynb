{
 "cells": [
  {
   "cell_type": "code",
   "execution_count": 63,
   "metadata": {},
   "outputs": [],
   "source": [
    "import pandas as pd\n",
    "import numpy as np\n",
    "%matplotlib inline\n",
    "from pylab import *\n",
    "from sklearn.model_selection import train_test_split\n",
    "\n",
    "import os\n",
    "if not os.path.exists(\"output/\") : os.mkdir(\"output/\")\n",
    "if not os.path.exists(\"data/\") : os.mkdir(\"data/\")\n",
    "\n",
    "import warnings\n",
    "warnings.filterwarnings(\"ignore\")"
   ]
  },
  {
   "cell_type": "code",
   "execution_count": 245,
   "metadata": {},
   "outputs": [],
   "source": [
    "from sklearn.metrics import f1_score\n",
    "from sklearn.metrics import accuracy_score\n",
    "from sklearn.metrics import log_loss\n",
    "from sklearn.model_selection import learning_curve\n",
    "from sklearn.metrics import confusion_matrix\n",
    "from sklearn import metrics\n",
    "from sklearn.metrics import log_loss"
   ]
  },
  {
   "cell_type": "code",
   "execution_count": 65,
   "metadata": {},
   "outputs": [],
   "source": [
    "# download the dataset\n",
    "import urllib.request\n",
    "\n",
    "urllib.request.urlretrieve(\"https://nthu-datalab.github.io/ml/labs/05_Regularization/data/X_train.csv\", \"./data/X_train.csv\")\n",
    "urllib.request.urlretrieve(\"https://nthu-datalab.github.io/ml/labs/05_Regularization/data/y_train.csv\", \"./data/y_train.csv\")\n",
    "urllib.request.urlretrieve(\"https://nthu-datalab.github.io/ml/labs/05_Regularization/data/X_test.csv\", \"./data/X_test.csv\")\n",
    "\n",
    "X_train = pd.read_csv('./data/X_train.csv')\n",
    "y_train = pd.read_csv('./data/y_train.csv')\n",
    "X_test = pd.read_csv('./data/X_test.csv')"
   ]
  },
  {
   "cell_type": "code",
   "execution_count": 66,
   "metadata": {},
   "outputs": [
    {
     "data": {
      "text/html": [
       "<div>\n",
       "<style scoped>\n",
       "    .dataframe tbody tr th:only-of-type {\n",
       "        vertical-align: middle;\n",
       "    }\n",
       "\n",
       "    .dataframe tbody tr th {\n",
       "        vertical-align: top;\n",
       "    }\n",
       "\n",
       "    .dataframe thead th {\n",
       "        text-align: right;\n",
       "    }\n",
       "</style>\n",
       "<table border=\"1\" class=\"dataframe\">\n",
       "  <thead>\n",
       "    <tr style=\"text-align: right;\">\n",
       "      <th></th>\n",
       "      <th>PERIOD</th>\n",
       "      <th>GAME_CLOCK</th>\n",
       "      <th>SHOT_CLOCK</th>\n",
       "      <th>DRIBBLES</th>\n",
       "      <th>TOUCH_TIME</th>\n",
       "      <th>SHOT_DIST</th>\n",
       "      <th>PTS_TYPE</th>\n",
       "      <th>CLOSE_DEF_DIST</th>\n",
       "    </tr>\n",
       "  </thead>\n",
       "  <tbody>\n",
       "    <tr>\n",
       "      <th>0</th>\n",
       "      <td>1</td>\n",
       "      <td>358</td>\n",
       "      <td>2.4</td>\n",
       "      <td>0</td>\n",
       "      <td>3.2</td>\n",
       "      <td>20.6</td>\n",
       "      <td>2</td>\n",
       "      <td>4.5</td>\n",
       "    </tr>\n",
       "    <tr>\n",
       "      <th>1</th>\n",
       "      <td>1</td>\n",
       "      <td>585</td>\n",
       "      <td>8.3</td>\n",
       "      <td>0</td>\n",
       "      <td>1.2</td>\n",
       "      <td>3.0</td>\n",
       "      <td>2</td>\n",
       "      <td>0.5</td>\n",
       "    </tr>\n",
       "    <tr>\n",
       "      <th>2</th>\n",
       "      <td>1</td>\n",
       "      <td>540</td>\n",
       "      <td>19.9</td>\n",
       "      <td>0</td>\n",
       "      <td>0.6</td>\n",
       "      <td>3.5</td>\n",
       "      <td>2</td>\n",
       "      <td>3.2</td>\n",
       "    </tr>\n",
       "    <tr>\n",
       "      <th>3</th>\n",
       "      <td>1</td>\n",
       "      <td>392</td>\n",
       "      <td>9.0</td>\n",
       "      <td>0</td>\n",
       "      <td>0.9</td>\n",
       "      <td>21.1</td>\n",
       "      <td>2</td>\n",
       "      <td>4.9</td>\n",
       "    </tr>\n",
       "    <tr>\n",
       "      <th>4</th>\n",
       "      <td>3</td>\n",
       "      <td>401</td>\n",
       "      <td>22.7</td>\n",
       "      <td>0</td>\n",
       "      <td>0.7</td>\n",
       "      <td>4.1</td>\n",
       "      <td>2</td>\n",
       "      <td>2.9</td>\n",
       "    </tr>\n",
       "    <tr>\n",
       "      <th>...</th>\n",
       "      <td>...</td>\n",
       "      <td>...</td>\n",
       "      <td>...</td>\n",
       "      <td>...</td>\n",
       "      <td>...</td>\n",
       "      <td>...</td>\n",
       "      <td>...</td>\n",
       "      <td>...</td>\n",
       "    </tr>\n",
       "    <tr>\n",
       "      <th>85746</th>\n",
       "      <td>4</td>\n",
       "      <td>404</td>\n",
       "      <td>2.1</td>\n",
       "      <td>0</td>\n",
       "      <td>0.9</td>\n",
       "      <td>22.1</td>\n",
       "      <td>3</td>\n",
       "      <td>6.5</td>\n",
       "    </tr>\n",
       "    <tr>\n",
       "      <th>85747</th>\n",
       "      <td>1</td>\n",
       "      <td>211</td>\n",
       "      <td>0.9</td>\n",
       "      <td>2</td>\n",
       "      <td>2.5</td>\n",
       "      <td>5.1</td>\n",
       "      <td>2</td>\n",
       "      <td>2.1</td>\n",
       "    </tr>\n",
       "    <tr>\n",
       "      <th>85748</th>\n",
       "      <td>4</td>\n",
       "      <td>627</td>\n",
       "      <td>18.3</td>\n",
       "      <td>0</td>\n",
       "      <td>1.8</td>\n",
       "      <td>25.4</td>\n",
       "      <td>3</td>\n",
       "      <td>4.3</td>\n",
       "    </tr>\n",
       "    <tr>\n",
       "      <th>85749</th>\n",
       "      <td>2</td>\n",
       "      <td>229</td>\n",
       "      <td>2.0</td>\n",
       "      <td>1</td>\n",
       "      <td>2.5</td>\n",
       "      <td>14.5</td>\n",
       "      <td>2</td>\n",
       "      <td>1.4</td>\n",
       "    </tr>\n",
       "    <tr>\n",
       "      <th>85750</th>\n",
       "      <td>4</td>\n",
       "      <td>266</td>\n",
       "      <td>12.6</td>\n",
       "      <td>0</td>\n",
       "      <td>0.3</td>\n",
       "      <td>1.3</td>\n",
       "      <td>2</td>\n",
       "      <td>4.6</td>\n",
       "    </tr>\n",
       "  </tbody>\n",
       "</table>\n",
       "<p>85751 rows × 8 columns</p>\n",
       "</div>"
      ],
      "text/plain": [
       "       PERIOD  GAME_CLOCK  SHOT_CLOCK  DRIBBLES  TOUCH_TIME  SHOT_DIST  \\\n",
       "0           1         358         2.4         0         3.2       20.6   \n",
       "1           1         585         8.3         0         1.2        3.0   \n",
       "2           1         540        19.9         0         0.6        3.5   \n",
       "3           1         392         9.0         0         0.9       21.1   \n",
       "4           3         401        22.7         0         0.7        4.1   \n",
       "...       ...         ...         ...       ...         ...        ...   \n",
       "85746       4         404         2.1         0         0.9       22.1   \n",
       "85747       1         211         0.9         2         2.5        5.1   \n",
       "85748       4         627        18.3         0         1.8       25.4   \n",
       "85749       2         229         2.0         1         2.5       14.5   \n",
       "85750       4         266        12.6         0         0.3        1.3   \n",
       "\n",
       "       PTS_TYPE  CLOSE_DEF_DIST  \n",
       "0             2             4.5  \n",
       "1             2             0.5  \n",
       "2             2             3.2  \n",
       "3             2             4.9  \n",
       "4             2             2.9  \n",
       "...         ...             ...  \n",
       "85746         3             6.5  \n",
       "85747         2             2.1  \n",
       "85748         3             4.3  \n",
       "85749         2             1.4  \n",
       "85750         2             4.6  \n",
       "\n",
       "[85751 rows x 8 columns]"
      ]
     },
     "execution_count": 66,
     "metadata": {},
     "output_type": "execute_result"
    }
   ],
   "source": [
    "X_train"
   ]
  },
  {
   "cell_type": "markdown",
   "metadata": {},
   "source": [
    "## Importing model from sklearn"
   ]
  },
  {
   "cell_type": "code",
   "execution_count": 269,
   "metadata": {},
   "outputs": [],
   "source": [
    "from sklearn.ensemble import GradientBoostingClassifier\n",
    "from sklearn.linear_model import LogisticRegression\n",
    "from sklearn.ensemble import RandomForestClassifier\n",
    "from xgboost.sklearn import XGBClassifier\n",
    "from sklearn.linear_model import SGDClassifier\n",
    "from sklearn.ensemble import AdaBoostClassifier\n",
    "from sklearn.svm import SVC"
   ]
  },
  {
   "cell_type": "markdown",
   "metadata": {},
   "source": [
    "## Preprocessing"
   ]
  },
  {
   "cell_type": "code",
   "execution_count": 211,
   "metadata": {},
   "outputs": [],
   "source": [
    "from sklearn.preprocessing import OneHotEncoder"
   ]
  },
  {
   "cell_type": "markdown",
   "metadata": {},
   "source": [
    "Spliting training data and validation data"
   ]
  },
  {
   "cell_type": "code",
   "execution_count": 73,
   "metadata": {},
   "outputs": [],
   "source": [
    "xx_train, xx_test, yy_train, yy_test = train_test_split(\n",
    "        X_train, y_train, test_size=0.3, random_state=0)"
   ]
  },
  {
   "cell_type": "markdown",
   "metadata": {},
   "source": [
    "Dropping the rows with negative values"
   ]
  },
  {
   "cell_type": "code",
   "execution_count": 79,
   "metadata": {},
   "outputs": [],
   "source": [
    "drop_neg_xx_train=xx_train.drop(xx_train[xx_train['TOUCH_TIME']<0].index)\n",
    "drop_neg_yy_train=yy_train.drop(xx_train[xx_train['TOUCH_TIME']<0].index)"
   ]
  },
  {
   "cell_type": "code",
   "execution_count": 80,
   "metadata": {},
   "outputs": [],
   "source": [
    "drop_neg_xx_test=xx_test.drop(xx_test[xx_test['TOUCH_TIME']<0].index)\n",
    "drop_neg_yy_test=yy_test.drop(xx_test[xx_test['TOUCH_TIME']<0].index)"
   ]
  },
  {
   "cell_type": "markdown",
   "metadata": {},
   "source": [
    "Try One Hot encoder"
   ]
  },
  {
   "cell_type": "code",
   "execution_count": 236,
   "metadata": {},
   "outputs": [],
   "source": [
    "en_drop_neg_xx_train=pd.get_dummies(drop_neg_xx_train,columns=['PERIOD','PTS_TYPE'])"
   ]
  },
  {
   "cell_type": "code",
   "execution_count": 237,
   "metadata": {},
   "outputs": [],
   "source": [
    "en_drop_neg_xx_test=pd.get_dummies(drop_neg_xx_test,columns=['PERIOD','PTS_TYPE'])"
   ]
  },
  {
   "cell_type": "code",
   "execution_count": 238,
   "metadata": {},
   "outputs": [
    {
     "data": {
      "text/html": [
       "<div>\n",
       "<style scoped>\n",
       "    .dataframe tbody tr th:only-of-type {\n",
       "        vertical-align: middle;\n",
       "    }\n",
       "\n",
       "    .dataframe tbody tr th {\n",
       "        vertical-align: top;\n",
       "    }\n",
       "\n",
       "    .dataframe thead th {\n",
       "        text-align: right;\n",
       "    }\n",
       "</style>\n",
       "<table border=\"1\" class=\"dataframe\">\n",
       "  <thead>\n",
       "    <tr style=\"text-align: right;\">\n",
       "      <th></th>\n",
       "      <th>GAME_CLOCK</th>\n",
       "      <th>SHOT_CLOCK</th>\n",
       "      <th>DRIBBLES</th>\n",
       "      <th>TOUCH_TIME</th>\n",
       "      <th>SHOT_DIST</th>\n",
       "      <th>CLOSE_DEF_DIST</th>\n",
       "      <th>PERIOD_1</th>\n",
       "      <th>PERIOD_2</th>\n",
       "      <th>PERIOD_3</th>\n",
       "      <th>PERIOD_4</th>\n",
       "      <th>PERIOD_5</th>\n",
       "      <th>PERIOD_6</th>\n",
       "      <th>PERIOD_7</th>\n",
       "      <th>PTS_TYPE_2</th>\n",
       "      <th>PTS_TYPE_3</th>\n",
       "    </tr>\n",
       "  </thead>\n",
       "  <tbody>\n",
       "    <tr>\n",
       "      <th>48595</th>\n",
       "      <td>513</td>\n",
       "      <td>21.3</td>\n",
       "      <td>0</td>\n",
       "      <td>1.8</td>\n",
       "      <td>5.6</td>\n",
       "      <td>3.6</td>\n",
       "      <td>1</td>\n",
       "      <td>0</td>\n",
       "      <td>0</td>\n",
       "      <td>0</td>\n",
       "      <td>0</td>\n",
       "      <td>0</td>\n",
       "      <td>0</td>\n",
       "      <td>1</td>\n",
       "      <td>0</td>\n",
       "    </tr>\n",
       "    <tr>\n",
       "      <th>33581</th>\n",
       "      <td>44</td>\n",
       "      <td>17.5</td>\n",
       "      <td>1</td>\n",
       "      <td>1.8</td>\n",
       "      <td>13.9</td>\n",
       "      <td>6.4</td>\n",
       "      <td>0</td>\n",
       "      <td>0</td>\n",
       "      <td>1</td>\n",
       "      <td>0</td>\n",
       "      <td>0</td>\n",
       "      <td>0</td>\n",
       "      <td>0</td>\n",
       "      <td>1</td>\n",
       "      <td>0</td>\n",
       "    </tr>\n",
       "    <tr>\n",
       "      <th>80254</th>\n",
       "      <td>136</td>\n",
       "      <td>24.0</td>\n",
       "      <td>0</td>\n",
       "      <td>0.8</td>\n",
       "      <td>3.2</td>\n",
       "      <td>0.0</td>\n",
       "      <td>0</td>\n",
       "      <td>1</td>\n",
       "      <td>0</td>\n",
       "      <td>0</td>\n",
       "      <td>0</td>\n",
       "      <td>0</td>\n",
       "      <td>0</td>\n",
       "      <td>1</td>\n",
       "      <td>0</td>\n",
       "    </tr>\n",
       "    <tr>\n",
       "      <th>15827</th>\n",
       "      <td>624</td>\n",
       "      <td>4.6</td>\n",
       "      <td>0</td>\n",
       "      <td>0.9</td>\n",
       "      <td>24.1</td>\n",
       "      <td>5.9</td>\n",
       "      <td>1</td>\n",
       "      <td>0</td>\n",
       "      <td>0</td>\n",
       "      <td>0</td>\n",
       "      <td>0</td>\n",
       "      <td>0</td>\n",
       "      <td>0</td>\n",
       "      <td>0</td>\n",
       "      <td>1</td>\n",
       "    </tr>\n",
       "    <tr>\n",
       "      <th>43292</th>\n",
       "      <td>267</td>\n",
       "      <td>7.4</td>\n",
       "      <td>1</td>\n",
       "      <td>3.0</td>\n",
       "      <td>4.4</td>\n",
       "      <td>1.7</td>\n",
       "      <td>1</td>\n",
       "      <td>0</td>\n",
       "      <td>0</td>\n",
       "      <td>0</td>\n",
       "      <td>0</td>\n",
       "      <td>0</td>\n",
       "      <td>0</td>\n",
       "      <td>1</td>\n",
       "      <td>0</td>\n",
       "    </tr>\n",
       "    <tr>\n",
       "      <th>...</th>\n",
       "      <td>...</td>\n",
       "      <td>...</td>\n",
       "      <td>...</td>\n",
       "      <td>...</td>\n",
       "      <td>...</td>\n",
       "      <td>...</td>\n",
       "      <td>...</td>\n",
       "      <td>...</td>\n",
       "      <td>...</td>\n",
       "      <td>...</td>\n",
       "      <td>...</td>\n",
       "      <td>...</td>\n",
       "      <td>...</td>\n",
       "      <td>...</td>\n",
       "      <td>...</td>\n",
       "    </tr>\n",
       "    <tr>\n",
       "      <th>68897</th>\n",
       "      <td>641</td>\n",
       "      <td>14.8</td>\n",
       "      <td>0</td>\n",
       "      <td>0.9</td>\n",
       "      <td>11.7</td>\n",
       "      <td>3.1</td>\n",
       "      <td>0</td>\n",
       "      <td>0</td>\n",
       "      <td>0</td>\n",
       "      <td>1</td>\n",
       "      <td>0</td>\n",
       "      <td>0</td>\n",
       "      <td>0</td>\n",
       "      <td>1</td>\n",
       "      <td>0</td>\n",
       "    </tr>\n",
       "    <tr>\n",
       "      <th>78791</th>\n",
       "      <td>176</td>\n",
       "      <td>3.7</td>\n",
       "      <td>2</td>\n",
       "      <td>4.7</td>\n",
       "      <td>8.2</td>\n",
       "      <td>0.9</td>\n",
       "      <td>0</td>\n",
       "      <td>1</td>\n",
       "      <td>0</td>\n",
       "      <td>0</td>\n",
       "      <td>0</td>\n",
       "      <td>0</td>\n",
       "      <td>0</td>\n",
       "      <td>1</td>\n",
       "      <td>0</td>\n",
       "    </tr>\n",
       "    <tr>\n",
       "      <th>70531</th>\n",
       "      <td>312</td>\n",
       "      <td>17.2</td>\n",
       "      <td>0</td>\n",
       "      <td>1.2</td>\n",
       "      <td>24.0</td>\n",
       "      <td>6.6</td>\n",
       "      <td>0</td>\n",
       "      <td>0</td>\n",
       "      <td>0</td>\n",
       "      <td>1</td>\n",
       "      <td>0</td>\n",
       "      <td>0</td>\n",
       "      <td>0</td>\n",
       "      <td>0</td>\n",
       "      <td>1</td>\n",
       "    </tr>\n",
       "    <tr>\n",
       "      <th>19791</th>\n",
       "      <td>379</td>\n",
       "      <td>6.6</td>\n",
       "      <td>0</td>\n",
       "      <td>4.9</td>\n",
       "      <td>15.4</td>\n",
       "      <td>5.4</td>\n",
       "      <td>1</td>\n",
       "      <td>0</td>\n",
       "      <td>0</td>\n",
       "      <td>0</td>\n",
       "      <td>0</td>\n",
       "      <td>0</td>\n",
       "      <td>0</td>\n",
       "      <td>1</td>\n",
       "      <td>0</td>\n",
       "    </tr>\n",
       "    <tr>\n",
       "      <th>52691</th>\n",
       "      <td>666</td>\n",
       "      <td>11.5</td>\n",
       "      <td>0</td>\n",
       "      <td>1.1</td>\n",
       "      <td>25.3</td>\n",
       "      <td>7.3</td>\n",
       "      <td>1</td>\n",
       "      <td>0</td>\n",
       "      <td>0</td>\n",
       "      <td>0</td>\n",
       "      <td>0</td>\n",
       "      <td>0</td>\n",
       "      <td>0</td>\n",
       "      <td>0</td>\n",
       "      <td>1</td>\n",
       "    </tr>\n",
       "  </tbody>\n",
       "</table>\n",
       "<p>25665 rows × 15 columns</p>\n",
       "</div>"
      ],
      "text/plain": [
       "       GAME_CLOCK  SHOT_CLOCK  DRIBBLES  TOUCH_TIME  SHOT_DIST  \\\n",
       "48595         513        21.3         0         1.8        5.6   \n",
       "33581          44        17.5         1         1.8       13.9   \n",
       "80254         136        24.0         0         0.8        3.2   \n",
       "15827         624         4.6         0         0.9       24.1   \n",
       "43292         267         7.4         1         3.0        4.4   \n",
       "...           ...         ...       ...         ...        ...   \n",
       "68897         641        14.8         0         0.9       11.7   \n",
       "78791         176         3.7         2         4.7        8.2   \n",
       "70531         312        17.2         0         1.2       24.0   \n",
       "19791         379         6.6         0         4.9       15.4   \n",
       "52691         666        11.5         0         1.1       25.3   \n",
       "\n",
       "       CLOSE_DEF_DIST  PERIOD_1  PERIOD_2  PERIOD_3  PERIOD_4  PERIOD_5  \\\n",
       "48595             3.6         1         0         0         0         0   \n",
       "33581             6.4         0         0         1         0         0   \n",
       "80254             0.0         0         1         0         0         0   \n",
       "15827             5.9         1         0         0         0         0   \n",
       "43292             1.7         1         0         0         0         0   \n",
       "...               ...       ...       ...       ...       ...       ...   \n",
       "68897             3.1         0         0         0         1         0   \n",
       "78791             0.9         0         1         0         0         0   \n",
       "70531             6.6         0         0         0         1         0   \n",
       "19791             5.4         1         0         0         0         0   \n",
       "52691             7.3         1         0         0         0         0   \n",
       "\n",
       "       PERIOD_6  PERIOD_7  PTS_TYPE_2  PTS_TYPE_3  \n",
       "48595         0         0           1           0  \n",
       "33581         0         0           1           0  \n",
       "80254         0         0           1           0  \n",
       "15827         0         0           0           1  \n",
       "43292         0         0           1           0  \n",
       "...         ...       ...         ...         ...  \n",
       "68897         0         0           1           0  \n",
       "78791         0         0           1           0  \n",
       "70531         0         0           0           1  \n",
       "19791         0         0           1           0  \n",
       "52691         0         0           0           1  \n",
       "\n",
       "[25665 rows x 15 columns]"
      ]
     },
     "execution_count": 238,
     "metadata": {},
     "output_type": "execute_result"
    }
   ],
   "source": [
    "en_drop_neg_xx_test"
   ]
  },
  {
   "cell_type": "markdown",
   "metadata": {},
   "source": [
    "### Testing OneHotEncoder"
   ]
  },
  {
   "cell_type": "code",
   "execution_count": 240,
   "metadata": {},
   "outputs": [
    {
     "name": "stdout",
     "output_type": "stream",
     "text": [
      "0.6102863822326126\n",
      "0.45019788918205805\n"
     ]
    }
   ],
   "source": [
    "rfr = RandomForestClassifier(max_depth=4, random_state=0)\n",
    "rfr.fit(en_drop_neg_xx_train, drop_neg_yy_train)\n",
    "yy_pred=rfr.predict(en_drop_neg_xx_test)\n",
    "print(accuracy_score(drop_neg_yy_test, yy_pred))\n",
    "print(f1_score(drop_neg_yy_test, yy_pred))"
   ]
  },
  {
   "cell_type": "markdown",
   "metadata": {},
   "source": [
    "### GradientBoost"
   ]
  },
  {
   "cell_type": "code",
   "execution_count": 242,
   "metadata": {},
   "outputs": [
    {
     "name": "stdout",
     "output_type": "stream",
     "text": [
      "0.611104617182934\n",
      "0.4932216298552932\n"
     ]
    }
   ],
   "source": [
    "gboosting_clf = GradientBoostingClassifier(n_estimators=100, learning_rate=1,max_depth=1, random_state=0).fit(en_drop_neg_xx_train, drop_neg_yy_train)\n",
    "yy_pred=gboosting_clf.predict(en_drop_neg_xx_test)\n",
    "print(accuracy_score(drop_neg_yy_test, yy_pred))\n",
    "print(f1_score(drop_neg_yy_test, yy_pred))"
   ]
  },
  {
   "cell_type": "markdown",
   "metadata": {},
   "source": [
    "The results show that the difference is small between with and without One-Hot encoder"
   ]
  },
  {
   "cell_type": "markdown",
   "metadata": {},
   "source": [
    "### Feature selection"
   ]
  },
  {
   "cell_type": "markdown",
   "metadata": {},
   "source": [
    "#### Feature selection by logistic regression"
   ]
  },
  {
   "cell_type": "code",
   "execution_count": 82,
   "metadata": {},
   "outputs": [],
   "source": [
    "xx_train, xx_test, yy_train, yy_test = train_test_split(X_train, y_train, test_size=0.3, random_state=0)\n",
    "lgr = LogisticRegression(random_state=0,penalty='l1',solver='liblinear')\n",
    "lgrfit=lgr.fit(xx_train,yy_train)"
   ]
  },
  {
   "cell_type": "code",
   "execution_count": 83,
   "metadata": {},
   "outputs": [
    {
     "name": "stdout",
     "output_type": "stream",
     "text": [
      "Selected attributes: ['SHOT_DIST' 'PTS_TYPE' 'CLOSE_DEF_DIST']\n"
     ]
    }
   ],
   "source": [
    "epsilon = 6e-2\n",
    "idxs = np.where(abs(lgrfit.coef_) > epsilon)\n",
    "print('Selected attributes: {}'.format(X_train.columns.values[idxs[1]]))"
   ]
  },
  {
   "cell_type": "markdown",
   "metadata": {},
   "source": [
    "#### Feature selection by SelectKBest, chi2"
   ]
  },
  {
   "cell_type": "code",
   "execution_count": 246,
   "metadata": {},
   "outputs": [],
   "source": [
    "from sklearn.feature_selection import SelectKBest, chi2"
   ]
  },
  {
   "cell_type": "code",
   "execution_count": 248,
   "metadata": {},
   "outputs": [],
   "source": [
    "selector=SelectKBest(chi2, k=3)\n",
    "xx_train_new = selector.fit_transform(drop_neg_xx_train, drop_neg_yy_train)\n",
    "sel_name_id=selector.get_support(indices=True)\n",
    "#drop_neg_xx_train.columns[sel_name_id]\n",
    "#sel_train_xx=drop_neg_xx_train.iloc[:,sel_name_id]\n",
    "#sel_test_xx=xx_test.iloc[:,sel_name_id]"
   ]
  },
  {
   "cell_type": "code",
   "execution_count": 251,
   "metadata": {},
   "outputs": [
    {
     "data": {
      "text/plain": [
       "array(['SHOT_CLOCK', 'TOUCH_TIME', 'SHOT_DIST'], dtype=object)"
      ]
     },
     "execution_count": 251,
     "metadata": {},
     "output_type": "execute_result"
    }
   ],
   "source": [
    "drop_neg_xx_train.columns.values[sel_name_id]"
   ]
  },
  {
   "cell_type": "code",
   "execution_count": 194,
   "metadata": {},
   "outputs": [],
   "source": [
    "from itertools import combinations\n",
    "  \n",
    "def rSubset(arr, r):\n",
    "  \n",
    "    # return list of all subsets of length r\n",
    "    # to deal with duplicate subsets use \n",
    "    # set(list(combinations(arr, r)))\n",
    "    return list(combinations(arr, r))"
   ]
  },
  {
   "cell_type": "markdown",
   "metadata": {},
   "source": [
    "# 1. How you evaluate your model."
   ]
  },
  {
   "cell_type": "markdown",
   "metadata": {},
   "source": [
    "Using accuracy and F1-score"
   ]
  },
  {
   "cell_type": "markdown",
   "metadata": {},
   "source": [
    "# 2. All models you have tried and the corresponding results."
   ]
  },
  {
   "cell_type": "markdown",
   "metadata": {},
   "source": [
    "## Models:"
   ]
  },
  {
   "cell_type": "markdown",
   "metadata": {},
   "source": [
    "### SVM"
   ]
  },
  {
   "cell_type": "code",
   "execution_count": 243,
   "metadata": {},
   "outputs": [],
   "source": [
    "rbf_svc = SVC(kernel='rbf',cache_size=1000)"
   ]
  },
  {
   "cell_type": "code",
   "execution_count": 244,
   "metadata": {},
   "outputs": [
    {
     "name": "stdout",
     "output_type": "stream",
     "text": [
      "0.5974673680109098\n",
      "0.5372037808538279\n"
     ]
    }
   ],
   "source": [
    "rbf_svc.fit(en_drop_neg_xx_train, drop_neg_yy_train)\n",
    "yy_pred=rbf_svc.predict(en_drop_neg_xx_test)\n",
    "print(accuracy_score(drop_neg_yy_test, yy_pred))\n",
    "print(f1_score(drop_neg_yy_test, yy_pred))"
   ]
  },
  {
   "cell_type": "markdown",
   "metadata": {},
   "source": [
    "### GradientBoostingClassifier"
   ]
  },
  {
   "cell_type": "code",
   "execution_count": 120,
   "metadata": {},
   "outputs": [
    {
     "data": {
      "image/png": "[encoded data removed]",
      "text/plain": [
       "<Figure size 432x288 with 1 Axes>"
      ]
     },
     "metadata": {
      "needs_background": "light"
     },
     "output_type": "display_data"
    },
    {
     "name": "stdout",
     "output_type": "stream",
     "text": [
      "   No. estimators  Accuracy  F1 scores\n",
      "0            10.0  0.607949   0.477299\n",
      "1            60.0  0.610559   0.490493\n",
      "2           110.0  0.611338   0.491305\n",
      "3           160.0  0.611884   0.491137\n",
      "4           210.0  0.612351   0.492061\n",
      "5           260.0  0.611845   0.490643\n",
      "6           310.0  0.612118   0.492221\n",
      "7           360.0  0.611767   0.492358\n",
      "8           410.0  0.612624   0.493737\n",
      "9           460.0  0.611962   0.492535\n"
     ]
    }
   ],
   "source": [
    "lls_train = []\n",
    "lls_test = []\n",
    "\n",
    "max_ = 500\n",
    "min_ = 10\n",
    "sc_df = pd.DataFrame(columns = ['No. estimators', 'Accuracy', 'F1 scores'])\n",
    "itr_range=range(min_, max_,50)\n",
    "\n",
    "for h in itr_range:\n",
    "    learning_rate=1\n",
    "    gboosting = GradientBoostingClassifier(n_estimators=h, learning_rate=learning_rate,max_depth=1, random_state=0)\n",
    "    \n",
    "    gboosting_m = gboosting.fit(drop_neg_xx_train, drop_neg_yy_train)\n",
    "    y_train_pred = gboosting_m.predict(drop_neg_xx_train)\n",
    "    y_test_pred = gboosting_m.predict(drop_neg_xx_test)\n",
    "    sc_df = sc_df.append({'No. estimators':h,'Accuracy':accuracy_score(drop_neg_yy_test, y_test_pred),'F1 scores':f1_score(drop_neg_yy_test, y_test_pred)},ignore_index=True)\n",
    "    \n",
    "    lls_train.append(1-gboosting_m.score(drop_neg_xx_train, drop_neg_yy_train))\n",
    "    lls_test.append(1-gboosting_m.score(drop_neg_xx_test, drop_neg_yy_test))\n",
    "    \n",
    "\n",
    "plt.plot(itr_range, lls_train, label = 'Training error', color = 'blue', linewidth = 2)\n",
    "plt.plot(itr_range, lls_test, label = 'Testing error', color = 'red', linewidth = 2)\n",
    "plt.legend(loc='upper right')\n",
    "plt.xlabel('Number of estimators')\n",
    "plt.ylabel('1-Accuracy')\n",
    "plt.tight_layout()\n",
    "plt.savefig('./output/fig-error-curve.png', dpi=300)\n",
    "plt.show()\n",
    "print(sc_df)"
   ]
  },
  {
   "cell_type": "markdown",
   "metadata": {},
   "source": [
    "### AdaBoostClassifier"
   ]
  },
  {
   "cell_type": "code",
   "execution_count": 121,
   "metadata": {},
   "outputs": [
    {
     "data": {
      "image/png": "[encoded data removed]",
      "text/plain": [
       "<Figure size 432x288 with 1 Axes>"
      ]
     },
     "metadata": {
      "needs_background": "light"
     },
     "output_type": "display_data"
    },
    {
     "name": "stdout",
     "output_type": "stream",
     "text": [
      "   No. estimators  Accuracy  F1 scores\n",
      "0            10.0  0.607949   0.477299\n",
      "1            60.0  0.611260   0.494298\n",
      "2           110.0  0.611689   0.494727\n",
      "3           160.0  0.611533   0.494524\n",
      "4           210.0  0.612390   0.495793\n",
      "5           260.0  0.612468   0.495792\n",
      "6           310.0  0.612702   0.496250\n",
      "7           360.0  0.611923   0.495083\n",
      "8           410.0  0.611416   0.494142\n",
      "9           460.0  0.611260   0.493990\n"
     ]
    }
   ],
   "source": [
    "lls_train = []\n",
    "lls_test = []\n",
    "\n",
    "max_ = 500\n",
    "min_ = 10\n",
    "sc_df = pd.DataFrame(columns = ['No. estimators', 'Accuracy', 'F1 scores'])\n",
    "itr_range=range(min_, max_,50)\n",
    "\n",
    "for h in itr_range:\n",
    "    learning_rate=1\n",
    "    adab = AdaBoostClassifier(n_estimators=h, learning_rate=learning_rate, random_state=0)\n",
    "    \n",
    "    adab = adab.fit(drop_neg_xx_train, drop_neg_yy_train)\n",
    "    y_train_pred = adab.predict(drop_neg_xx_train)\n",
    "    y_test_pred = adab.predict(drop_neg_xx_test)\n",
    "\n",
    "    sc_df = sc_df.append({'No. estimators':h,'Accuracy':accuracy_score(drop_neg_yy_test, y_test_pred),'F1 scores':f1_score(drop_neg_yy_test, y_test_pred)},ignore_index=True)\n",
    "    \n",
    "    lls_train.append(1-adab.score(drop_neg_xx_train, drop_neg_yy_train))\n",
    "    lls_test.append(1-adab.score(drop_neg_xx_test, drop_neg_yy_test))\n",
    "    \n",
    "\n",
    "plt.plot(itr_range, lls_train, label =b 'Training error', color = 'blue', linewidth = 2)\n",
    "plt.plot(itr_range, lls_test, label = 'Testing error', color = 'red', linewidth = 2)\n",
    "plt.legend(loc='upper right')\n",
    "plt.xlabel('Number of estimators')\n",
    "plt.ylabel('1-Accuracy')\n",
    "plt.tight_layout()\n",
    "plt.savefig('./output/fig-error-curve.png', dpi=300)\n",
    "plt.show()\n",
    "print(sc_df)"
   ]
  },
  {
   "cell_type": "markdown",
   "metadata": {},
   "source": [
    "### SGD classifier"
   ]
  },
  {
   "cell_type": "code",
   "execution_count": 253,
   "metadata": {},
   "outputs": [
    {
     "name": "stdout",
     "output_type": "stream",
     "text": [
      "   Max_iter  Accuracy  F1 scores\n",
      "0       3.0  0.537697   0.618746\n"
     ]
    }
   ],
   "source": [
    "sc_df = pd.DataFrame(columns = ['Max_iter', 'Accuracy', 'F1 scores'])    \n",
    "sgd = SGDClassifier(penalty=\"l2\", max_iter=3,alpha=0.0004, random_state=0)\n",
    "sgd.fit(drop_neg_xx_train, drop_neg_yy_train)\n",
    "y_train_pred=sgd.predict(drop_neg_xx_train)\n",
    "y_test_pred = sgd.predict(drop_neg_xx_test)\n",
    "\n",
    "sc_df = sc_df.append({'Max_iter':3,'Accuracy':accuracy_score(drop_neg_yy_test, y_test_pred),'F1 scores':f1_score(drop_neg_yy_test, y_test_pred)},ignore_index=True)\n",
    "\n",
    "print(sc_df)"
   ]
  },
  {
   "cell_type": "markdown",
   "metadata": {},
   "source": [
    "### XGBoost"
   ]
  },
  {
   "cell_type": "code",
   "execution_count": 185,
   "metadata": {},
   "outputs": [
    {
     "name": "stdout",
     "output_type": "stream",
     "text": [
      "   Alpha  Accuracy  F1 scores\n",
      "0    4.0  0.611222   0.454754\n"
     ]
    }
   ],
   "source": [
    "sc_df = pd.DataFrame(columns = ['Alpha', 'Accuracy', 'F1 scores'])  \n",
    "xg1 = XGBClassifier(eval_metric='logloss',max_depth=5,learning_rate=0.0001,min_child_weight=0.0001,alpha=4,random_state=0)\n",
    "xg1=xg1.fit(drop_neg_xx_train, drop_neg_yy_train)\n",
    "yy_pred=xg1.predict(drop_neg_xx_test)\n",
    "sc_df = sc_df.append({'Alpha':4,'Accuracy':accuracy_score(drop_neg_yy_test, yy_pred),'F1 scores':f1_score(drop_neg_yy_test, yy_pred)},ignore_index=True)\n",
    "print(sc_df)"
   ]
  },
  {
   "cell_type": "markdown",
   "metadata": {},
   "source": [
    "# 3. Plot the error curve of your best model and tell if it is over-fit or not."
   ]
  },
  {
   "cell_type": "markdown",
   "metadata": {},
   "source": [
    "## Final Model"
   ]
  },
  {
   "cell_type": "markdown",
   "metadata": {},
   "source": [
    "### Random Forest"
   ]
  },
  {
   "cell_type": "markdown",
   "metadata": {},
   "source": [
    "It is not over-fit. But it is under-fit."
   ]
  },
  {
   "cell_type": "code",
   "execution_count": 119,
   "metadata": {},
   "outputs": [
    {
     "data": {
      "image/png": "[encoded data removed]",
      "text/plain": [
       "<Figure size 432x288 with 1 Axes>"
      ]
     },
     "metadata": {
      "needs_background": "light"
     },
     "output_type": "display_data"
    },
    {
     "name": "stdout",
     "output_type": "stream",
     "text": [
      "    Max height  Accuracy  F1 scores\n",
      "0          1.0  0.585506   0.286902\n",
      "1          2.0  0.608182   0.444297\n",
      "2          3.0  0.610754   0.436675\n",
      "3          4.0  0.610715   0.446329\n",
      "4          5.0  0.612118   0.438870\n",
      "5          6.0  0.613092   0.440689\n",
      "6          7.0  0.613131   0.443909\n",
      "7          8.0  0.615546   0.446079\n",
      "8          9.0  0.614845   0.445628\n",
      "9         10.0  0.614611   0.441975\n",
      "10        11.0  0.614378   0.443081\n"
     ]
    }
   ],
   "source": [
    "lls_train = []\n",
    "lls_test = []\n",
    "sc_df = pd.DataFrame(columns = ['Max height', 'Accuracy', 'F1 scores'])\n",
    "\n",
    "max_height = 12\n",
    "\n",
    "for h in range(1, max_height):\n",
    "    #gboosting = GradientBoostingClassifier(n_estimators=100, learning_rate=1,max_depth=h, random_state=0)\n",
    "    rfr = RandomForestClassifier(criterion='entropy',n_estimators=200,n_jobs=2,max_depth=h, random_state=0)\n",
    "    rfr.fit(drop_neg_xx_train, drop_neg_yy_train)\n",
    "    y_train_pred = rfr.predict(drop_neg_xx_train)\n",
    "    y_test_pred = rfr.predict(drop_neg_xx_test)\n",
    "    sc_df = sc_df.append({'Max height':h,'Accuracy':accuracy_score(drop_neg_yy_test, y_test_pred),'F1 scores':f1_score(drop_neg_yy_test, y_test_pred)},ignore_index=True)\n",
    "    \n",
    "    #lls_train.append(log_loss(drop_neg_yy_train, y_train_pred))\n",
    "    #lls_test.append(log_loss(drop_neg_yy_test, yy_pred))\n",
    "    lls_train.append(1-rfr.score(drop_neg_xx_train, drop_neg_yy_train))\n",
    "    lls_test.append(1-rfr.score(drop_neg_xx_test, drop_neg_yy_test))\n",
    "    \n",
    "\n",
    "plt.plot(range(1, max_height), lls_train, label = 'Training error', color = 'blue', linewidth = 2)\n",
    "plt.plot(range(1, max_height), lls_test, label = 'Testing error', color = 'red', linewidth = 2)\n",
    "plt.legend(loc='upper right')\n",
    "plt.xlabel('Model complexity (height)')\n",
    "plt.ylabel('Log loss error')\n",
    "plt.tight_layout()\n",
    "plt.savefig('./output/fig-error-curve.png', dpi=300)\n",
    "plt.show()\n",
    "\n",
    "print(sc_df)"
   ]
  },
  {
   "cell_type": "markdown",
   "metadata": {},
   "source": [
    "### Using brute force to features selection"
   ]
  },
  {
   "cell_type": "code",
   "execution_count": 210,
   "metadata": {},
   "outputs": [
    {
     "name": "stdout",
     "output_type": "stream",
     "text": [
      "                           Selected features  Accuracy  F1 scores\n",
      "0           [PERIOD, GAME_CLOCK, SHOT_CLOCK]  0.558036   0.237753\n",
      "1             [PERIOD, GAME_CLOCK, DRIBBLES]  0.539801   0.017306\n",
      "2           [PERIOD, GAME_CLOCK, TOUCH_TIME]  0.554802   0.224620\n",
      "3            [PERIOD, GAME_CLOCK, SHOT_DIST]  0.604364   0.457585\n",
      "4             [PERIOD, GAME_CLOCK, PTS_TYPE]  0.540074   0.042505\n",
      "5       [PERIOD, GAME_CLOCK, CLOSE_DEF_DIST]  0.536918   0.062475\n",
      "6             [PERIOD, SHOT_CLOCK, DRIBBLES]  0.558465   0.257502\n",
      "7           [PERIOD, SHOT_CLOCK, TOUCH_TIME]  0.567076   0.319054\n",
      "8            [PERIOD, SHOT_CLOCK, SHOT_DIST]  0.604754   0.442760\n",
      "9             [PERIOD, SHOT_CLOCK, PTS_TYPE]  0.568907   0.286286\n",
      "10      [PERIOD, SHOT_CLOCK, CLOSE_DEF_DIST]  0.558231   0.239673\n",
      "11            [PERIOD, DRIBBLES, TOUCH_TIME]  0.555776   0.178780\n",
      "12             [PERIOD, DRIBBLES, SHOT_DIST]  0.605533   0.460629\n",
      "13              [PERIOD, DRIBBLES, PTS_TYPE]  0.568712   0.428520\n",
      "14        [PERIOD, DRIBBLES, CLOSE_DEF_DIST]  0.553750   0.298782\n",
      "15           [PERIOD, TOUCH_TIME, SHOT_DIST]  0.606974   0.454963\n",
      "16            [PERIOD, TOUCH_TIME, PTS_TYPE]  0.575882   0.423250\n",
      "17      [PERIOD, TOUCH_TIME, CLOSE_DEF_DIST]  0.562127   0.330354\n",
      "18             [PERIOD, SHOT_DIST, PTS_TYPE]  0.603039   0.445038\n",
      "19       [PERIOD, SHOT_DIST, CLOSE_DEF_DIST]  0.608026   0.439554\n",
      "20        [PERIOD, PTS_TYPE, CLOSE_DEF_DIST]  0.547399   0.417919\n",
      "21        [GAME_CLOCK, SHOT_CLOCK, DRIBBLES]  0.558854   0.258837\n",
      "22      [GAME_CLOCK, SHOT_CLOCK, TOUCH_TIME]  0.566608   0.319069\n",
      "23       [GAME_CLOCK, SHOT_CLOCK, SHOT_DIST]  0.604909   0.442306\n",
      "24        [GAME_CLOCK, SHOT_CLOCK, PTS_TYPE]  0.568751   0.283439\n",
      "25  [GAME_CLOCK, SHOT_CLOCK, CLOSE_DEF_DIST]  0.557802   0.241630\n",
      "26        [GAME_CLOCK, DRIBBLES, TOUCH_TIME]  0.554880   0.226436\n",
      "27         [GAME_CLOCK, DRIBBLES, SHOT_DIST]  0.604403   0.461408\n",
      "28          [GAME_CLOCK, DRIBBLES, PTS_TYPE]  0.567076   0.422895\n",
      "29    [GAME_CLOCK, DRIBBLES, CLOSE_DEF_DIST]  0.553439   0.308287\n",
      "30       [GAME_CLOCK, TOUCH_TIME, SHOT_DIST]  0.607676   0.460483\n",
      "31        [GAME_CLOCK, TOUCH_TIME, PTS_TYPE]  0.576739   0.423255\n",
      "32  [GAME_CLOCK, TOUCH_TIME, CLOSE_DEF_DIST]  0.560997   0.334141\n",
      "33         [GAME_CLOCK, SHOT_DIST, PTS_TYPE]  0.604442   0.457750\n",
      "34   [GAME_CLOCK, SHOT_DIST, CLOSE_DEF_DIST]  0.606273   0.451143\n",
      "35    [GAME_CLOCK, PTS_TYPE, CLOSE_DEF_DIST]  0.547594   0.417382\n",
      "36        [SHOT_CLOCK, DRIBBLES, TOUCH_TIME]  0.567076   0.321714\n",
      "37         [SHOT_CLOCK, DRIBBLES, SHOT_DIST]  0.608026   0.447738\n",
      "38          [SHOT_CLOCK, DRIBBLES, PTS_TYPE]  0.580518   0.463738\n",
      "39    [SHOT_CLOCK, DRIBBLES, CLOSE_DEF_DIST]  0.565478   0.371222\n",
      "40       [SHOT_CLOCK, TOUCH_TIME, SHOT_DIST]  0.609780   0.461530\n",
      "41        [SHOT_CLOCK, TOUCH_TIME, PTS_TYPE]  0.586129   0.452587\n",
      "42  [SHOT_CLOCK, TOUCH_TIME, CLOSE_DEF_DIST]  0.567465   0.323893\n",
      "43         [SHOT_CLOCK, SHOT_DIST, PTS_TYPE]  0.604403   0.441253\n",
      "44   [SHOT_CLOCK, SHOT_DIST, CLOSE_DEF_DIST]  0.609117   0.453595\n",
      "45    [SHOT_CLOCK, PTS_TYPE, CLOSE_DEF_DIST]  0.566530   0.246018\n",
      "46         [DRIBBLES, TOUCH_TIME, SHOT_DIST]  0.607715   0.454309\n",
      "47          [DRIBBLES, TOUCH_TIME, PTS_TYPE]  0.577245   0.420096\n",
      "48    [DRIBBLES, TOUCH_TIME, CLOSE_DEF_DIST]  0.562868   0.307255\n",
      "49           [DRIBBLES, SHOT_DIST, PTS_TYPE]  0.605494   0.460834\n",
      "50     [DRIBBLES, SHOT_DIST, CLOSE_DEF_DIST]  0.607559   0.428052\n",
      "51      [DRIBBLES, PTS_TYPE, CLOSE_DEF_DIST]  0.571284   0.391730\n",
      "52         [TOUCH_TIME, SHOT_DIST, PTS_TYPE]  0.606974   0.454963\n",
      "53   [TOUCH_TIME, SHOT_DIST, CLOSE_DEF_DIST]  0.611845   0.454017\n",
      "54    [TOUCH_TIME, PTS_TYPE, CLOSE_DEF_DIST]  0.578025   0.396254\n",
      "55     [SHOT_DIST, PTS_TYPE, CLOSE_DEF_DIST]  0.608026   0.439554\n",
      "                         Selected features  Accuracy  F1 scores\n",
      "0  [TOUCH_TIME, SHOT_DIST, CLOSE_DEF_DIST]  0.611845   0.454017\n"
     ]
    }
   ],
   "source": [
    "sc_df = pd.DataFrame(columns = ['Selected features', 'Accuracy', 'F1 scores'])\n",
    "best_sc_df = pd.DataFrame(columns = ['Selected features', 'Accuracy', 'F1 scores'])\n",
    "best_accuracy=0\n",
    "best_F1_score=0\n",
    "xg1 = XGBClassifier(eval_metric='logloss',max_depth=5,learning_rate=0.0001,min_child_weight=0.0001,alpha=4,random_state=0)\n",
    "for id_list in rSubset(range(8), 3):\n",
    "    ida=array(id_list)\n",
    "    sel_train_xx=drop_neg_xx_train.iloc[:,ida]\n",
    "    sel_test_xx=drop_neg_xx_test.iloc[:,ida]\n",
    "    gboosting_clf = xg1.fit(sel_train_xx, drop_neg_yy_train)\n",
    "    yy_pred=gboosting_clf.predict(sel_test_xx)\n",
    "    accuracy=accuracy_score(drop_neg_yy_test, yy_pred)\n",
    "    f1=f1_score(drop_neg_yy_test, yy_pred)  \n",
    "    if(best_accuracy<accuracy):\n",
    "        best_accuracy=accuracy\n",
    "        best_F1_score=f1\n",
    "        best_select=id_list\n",
    "    sc_df = sc_df.append({'Selected features':drop_neg_xx_train.columns.values[[id_list]],'Accuracy':accuracy,'F1 scores':f1},ignore_index=True)\n",
    "print(sc_df)\n",
    "\n",
    "best_sc_df=best_sc_df.append({'Selected features':drop_neg_xx_train.columns.values[[best_select]],'Accuracy':best_accuracy,'F1 scores':best_F1_score},ignore_index=True)\n",
    "print(best_sc_df)"
   ]
  },
  {
   "cell_type": "markdown",
   "metadata": {},
   "source": [
    "# 4. The top-3 features you find and how you find it ."
   ]
  },
  {
   "cell_type": "markdown",
   "metadata": {},
   "source": [
    "TOUCH_TIME, SHOT_DIST, CLOSE_DEF_DIST"
   ]
  },
  {
   "cell_type": "markdown",
   "metadata": {},
   "source": [
    "Selecting by logistic regression, SelectKBest from scikitlearn and brute force."
   ]
  },
  {
   "cell_type": "code",
   "execution_count": null,
   "metadata": {},
   "outputs": [],
   "source": [
    "X_test = pd.read_csv('./data/X_test.csv')"
   ]
  },
  {
   "cell_type": "code",
   "execution_count": 256,
   "metadata": {},
   "outputs": [],
   "source": [
    "sc_df = pd.DataFrame(columns = ['Max height', 'Accuracy', 'F1 scores'])\n",
    "rfr = RandomForestClassifier(criterion='entropy',n_estimators=200,n_jobs=2,max_depth=8, random_state=0)\n",
    "rfr.fit(drop_neg_xx_train, drop_neg_yy_train)\n",
    "y_train_pred = rfr.predict(drop_neg_xx_train)\n",
    "y_test_pred = rfr.predict(drop_neg_xx_test)\n",
    "sc_df = sc_df.append({'Max height':8,'Accuracy':accuracy_score(drop_neg_yy_test, y_test_pred),'F1 scores':f1_score(drop_neg_yy_test, y_test_pred)},ignore_index=True)"
   ]
  },
  {
   "cell_type": "markdown",
   "metadata": {},
   "source": [
    "### The results of my final model"
   ]
  },
  {
   "cell_type": "code",
   "execution_count": 257,
   "metadata": {},
   "outputs": [
    {
     "data": {
      "text/html": [
       "<div>\n",
       "<style scoped>\n",
       "    .dataframe tbody tr th:only-of-type {\n",
       "        vertical-align: middle;\n",
       "    }\n",
       "\n",
       "    .dataframe tbody tr th {\n",
       "        vertical-align: top;\n",
       "    }\n",
       "\n",
       "    .dataframe thead th {\n",
       "        text-align: right;\n",
       "    }\n",
       "</style>\n",
       "<table border=\"1\" class=\"dataframe\">\n",
       "  <thead>\n",
       "    <tr style=\"text-align: right;\">\n",
       "      <th></th>\n",
       "      <th>Max height</th>\n",
       "      <th>Accuracy</th>\n",
       "      <th>F1 scores</th>\n",
       "    </tr>\n",
       "  </thead>\n",
       "  <tbody>\n",
       "    <tr>\n",
       "      <th>0</th>\n",
       "      <td>8.0</td>\n",
       "      <td>0.615546</td>\n",
       "      <td>0.446079</td>\n",
       "    </tr>\n",
       "  </tbody>\n",
       "</table>\n",
       "</div>"
      ],
      "text/plain": [
       "   Max height  Accuracy  F1 scores\n",
       "0         8.0  0.615546   0.446079"
      ]
     },
     "execution_count": 257,
     "metadata": {},
     "output_type": "execute_result"
    }
   ],
   "source": [
    "sc_df"
   ]
  },
  {
   "cell_type": "code",
   "execution_count": 263,
   "metadata": {},
   "outputs": [
    {
     "data": {
      "image/png": "[encoded data removed]",
      "text/plain": [
       "<Figure size 432x288 with 2 Axes>"
      ]
     },
     "metadata": {
      "needs_background": "light"
     },
     "output_type": "display_data"
    }
   ],
   "source": [
    "confusion_matrix=confusion_matrix(drop_neg_yy_test, y_test_pred)\n",
    "cm_display = metrics.ConfusionMatrixDisplay(confusion_matrix = confusion_matrix, display_labels = [False, True])\n",
    "cm_display.plot()\n",
    "plt.show()"
   ]
  },
  {
   "cell_type": "markdown",
   "metadata": {},
   "source": [
    "### Predicting the given test data"
   ]
  },
  {
   "cell_type": "code",
   "execution_count": 272,
   "metadata": {},
   "outputs": [
    {
     "data": {
      "text/plain": [
       "array([1, 0, 1, ..., 0, 0, 0])"
      ]
     },
     "execution_count": 272,
     "metadata": {},
     "output_type": "execute_result"
    }
   ],
   "source": [
    "final_y_test"
   ]
  },
  {
   "cell_type": "code",
   "execution_count": 262,
   "metadata": {},
   "outputs": [
    {
     "data": {
      "text/plain": [
       "(36751, 8)"
      ]
     },
     "execution_count": 262,
     "metadata": {},
     "output_type": "execute_result"
    }
   ],
   "source": [
    "X_test.shape"
   ]
  },
  {
   "cell_type": "code",
   "execution_count": 258,
   "metadata": {},
   "outputs": [],
   "source": [
    "final_y_test=rfr.predict(X_test)"
   ]
  },
  {
   "cell_type": "code",
   "execution_count": 265,
   "metadata": {},
   "outputs": [],
   "source": [
    "pd.DataFrame(final_y_test).to_csv('Lab05_109065711_y_pred.csv', index=False) "
   ]
  },
  {
   "cell_type": "markdown",
   "metadata": {},
   "source": [
    "# 5. A brief report what you do in this assignment."
   ]
  },
  {
   "cell_type": "markdown",
   "metadata": {},
   "source": [
    "Downloading the NBA dataset and splitting it into training set and validation set."
   ]
  },
  {
   "cell_type": "markdown",
   "metadata": {},
   "source": [
    "I dropped the row with negative values in the dataset. Also, I checked if the 0 row exists."
   ]
  },
  {
   "cell_type": "markdown",
   "metadata": {},
   "source": [
    "I tried to use some datatransformation methods and One-Hot encoding method. However, the results are pretty much the same."
   ]
  },
  {
   "cell_type": "markdown",
   "metadata": {},
   "source": [
    "I used different classification models to train the data."
   ]
  },
  {
   "cell_type": "markdown",
   "metadata": {},
   "source": [
    "Including AdaBoostClassifier, SGDClassifier, XGBClassifier, RandomForestClassifier, LogisticRegression, SVM, and GradientBoostingClassifier."
   ]
  },
  {
   "cell_type": "markdown",
   "metadata": {},
   "source": [
    "Drawing the error curves of the training results with different parameters of the models."
   ]
  },
  {
   "cell_type": "markdown",
   "metadata": {},
   "source": [
    "Using logistic regression, scikitlearn module and brute force method to select the top-3 features."
   ]
  },
  {
   "cell_type": "markdown",
   "metadata": {},
   "source": [
    "Using my final model to show the prediction result and the confusion matrix."
   ]
  },
  {
   "cell_type": "markdown",
   "metadata": {},
   "source": [
    "Finally, I predicted X_test with my final model and hoped it can pass."
   ]
  },
  {
   "cell_type": "code",
   "execution_count": null,
   "metadata": {},
   "outputs": [],
   "source": []
  }
 ],
 "metadata": {
  "kernelspec": {
   "display_name": "Python 3",
   "language": "python",
   "name": "python3"
  },
  "language_info": {
   "codemirror_mode": {
    "name": "ipython",
    "version": 3
   },
   "file_extension": ".py",
   "mimetype": "text/x-python",
   "name": "python",
   "nbconvert_exporter": "python",
   "pygments_lexer": "ipython3",
   "version": "3.8.3"
  }
 },
 "nbformat": 4,
 "nbformat_minor": 4
}
